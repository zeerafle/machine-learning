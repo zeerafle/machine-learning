{
 "cells": [
  {
   "cell_type": "markdown",
   "metadata": {},
   "source": [
    "# Machine Learning Clustering with Python\n",
    "\n",
    "Data yang digunakan adalah informasi kartu kredit customer. Data dapat diakses di [kaggle](https://www.kaggle.com/datasets/aryashah2k/credit-card-customer-data)\n",
    "\n",
    "Algoritma yang akan digunakan adalah K-Means dan DBSCAN. Performa masing masing algoritma akan diukur di akhir notebook ini."
   ]
  },
  {
   "cell_type": "code",
   "execution_count": 1,
   "metadata": {},
   "outputs": [],
   "source": [
    "import pandas as pd\n",
    "import os\n",
    "import matplotlib.pyplot as plt\n",
    "%matplotlib inline"
   ]
  },
  {
   "cell_type": "markdown",
   "metadata": {},
   "source": [
    "## Data Exploration dan Preprocessing\n",
    "\n",
    "Setelah data dibaca ke memori, lakukan pembersihan data diantaranya handle missing value, perbaikan tipe data, normalisasi, dan transformasikan variabel kategorik"
   ]
  },
  {
   "cell_type": "code",
   "execution_count": 2,
   "metadata": {},
   "outputs": [
    {
     "data": {
      "text/html": [
       "<div>\n",
       "<style scoped>\n",
       "    .dataframe tbody tr th:only-of-type {\n",
       "        vertical-align: middle;\n",
       "    }\n",
       "\n",
       "    .dataframe tbody tr th {\n",
       "        vertical-align: top;\n",
       "    }\n",
       "\n",
       "    .dataframe thead th {\n",
       "        text-align: right;\n",
       "    }\n",
       "</style>\n",
       "<table border=\"1\" class=\"dataframe\">\n",
       "  <thead>\n",
       "    <tr style=\"text-align: right;\">\n",
       "      <th></th>\n",
       "      <th>Sl_No</th>\n",
       "      <th>Customer Key</th>\n",
       "      <th>Avg_Credit_Limit</th>\n",
       "      <th>Total_Credit_Cards</th>\n",
       "      <th>Total_visits_bank</th>\n",
       "      <th>Total_visits_online</th>\n",
       "      <th>Total_calls_made</th>\n",
       "    </tr>\n",
       "  </thead>\n",
       "  <tbody>\n",
       "    <tr>\n",
       "      <th>0</th>\n",
       "      <td>1</td>\n",
       "      <td>87073</td>\n",
       "      <td>100000</td>\n",
       "      <td>2</td>\n",
       "      <td>1</td>\n",
       "      <td>1</td>\n",
       "      <td>0</td>\n",
       "    </tr>\n",
       "    <tr>\n",
       "      <th>1</th>\n",
       "      <td>2</td>\n",
       "      <td>38414</td>\n",
       "      <td>50000</td>\n",
       "      <td>3</td>\n",
       "      <td>0</td>\n",
       "      <td>10</td>\n",
       "      <td>9</td>\n",
       "    </tr>\n",
       "    <tr>\n",
       "      <th>2</th>\n",
       "      <td>3</td>\n",
       "      <td>17341</td>\n",
       "      <td>50000</td>\n",
       "      <td>7</td>\n",
       "      <td>1</td>\n",
       "      <td>3</td>\n",
       "      <td>4</td>\n",
       "    </tr>\n",
       "    <tr>\n",
       "      <th>3</th>\n",
       "      <td>4</td>\n",
       "      <td>40496</td>\n",
       "      <td>30000</td>\n",
       "      <td>5</td>\n",
       "      <td>1</td>\n",
       "      <td>1</td>\n",
       "      <td>4</td>\n",
       "    </tr>\n",
       "    <tr>\n",
       "      <th>4</th>\n",
       "      <td>5</td>\n",
       "      <td>47437</td>\n",
       "      <td>100000</td>\n",
       "      <td>6</td>\n",
       "      <td>0</td>\n",
       "      <td>12</td>\n",
       "      <td>3</td>\n",
       "    </tr>\n",
       "  </tbody>\n",
       "</table>\n",
       "</div>"
      ],
      "text/plain": [
       "   Sl_No  Customer Key  Avg_Credit_Limit  Total_Credit_Cards  \\\n",
       "0      1         87073            100000                   2   \n",
       "1      2         38414             50000                   3   \n",
       "2      3         17341             50000                   7   \n",
       "3      4         40496             30000                   5   \n",
       "4      5         47437            100000                   6   \n",
       "\n",
       "   Total_visits_bank  Total_visits_online  Total_calls_made  \n",
       "0                  1                    1                 0  \n",
       "1                  0                   10                 9  \n",
       "2                  1                    3                 4  \n",
       "3                  1                    1                 4  \n",
       "4                  0                   12                 3  "
      ]
     },
     "execution_count": 2,
     "metadata": {},
     "output_type": "execute_result"
    }
   ],
   "source": [
    "data_path = os.path.join('data', 'Credit Card Customer Data.csv')\n",
    "data = pd.read_csv(data_path)\n",
    "data.head()"
   ]
  },
  {
   "cell_type": "code",
   "execution_count": 3,
   "metadata": {},
   "outputs": [
    {
     "name": "stdout",
     "output_type": "stream",
     "text": [
      "<class 'pandas.core.frame.DataFrame'>\n",
      "RangeIndex: 660 entries, 0 to 659\n",
      "Data columns (total 7 columns):\n",
      " #   Column               Non-Null Count  Dtype\n",
      "---  ------               --------------  -----\n",
      " 0   Sl_No                660 non-null    int64\n",
      " 1   Customer Key         660 non-null    int64\n",
      " 2   Avg_Credit_Limit     660 non-null    int64\n",
      " 3   Total_Credit_Cards   660 non-null    int64\n",
      " 4   Total_visits_bank    660 non-null    int64\n",
      " 5   Total_visits_online  660 non-null    int64\n",
      " 6   Total_calls_made     660 non-null    int64\n",
      "dtypes: int64(7)\n",
      "memory usage: 36.2 KB\n"
     ]
    }
   ],
   "source": [
    "data.info()"
   ]
  },
  {
   "cell_type": "code",
   "execution_count": 4,
   "metadata": {},
   "outputs": [
    {
     "data": {
      "text/plain": [
       "Sl_No                  0\n",
       "Customer Key           0\n",
       "Avg_Credit_Limit       0\n",
       "Total_Credit_Cards     0\n",
       "Total_visits_bank      0\n",
       "Total_visits_online    0\n",
       "Total_calls_made       0\n",
       "dtype: int64"
      ]
     },
     "execution_count": 4,
     "metadata": {},
     "output_type": "execute_result"
    }
   ],
   "source": [
    "data.isna().sum()"
   ]
  },
  {
   "cell_type": "markdown",
   "metadata": {},
   "source": [
    "## Build Model"
   ]
  },
  {
   "cell_type": "code",
   "execution_count": 5,
   "metadata": {},
   "outputs": [
    {
     "name": "stdout",
     "output_type": "stream",
     "text": [
      "Variasi yang diwakili principal component: [0.45736578 0.37426483]\n"
     ]
    }
   ],
   "source": [
    "from sklearn.preprocessing import StandardScaler\n",
    "from sklearn.decomposition import PCA\n",
    "\n",
    "X = data.iloc[:, 2:]\n",
    "X = StandardScaler().fit_transform(X)\n",
    "pca = PCA(n_components=2)\n",
    "X_pca = pca.fit_transform(X)\n",
    "\n",
    "print('Variasi yang diwakili principal component:', pca.explained_variance_ratio_)"
   ]
  },
  {
   "cell_type": "code",
   "execution_count": 6,
   "metadata": {},
   "outputs": [
    {
     "data": {
      "text/html": [
       "<div>\n",
       "<style scoped>\n",
       "    .dataframe tbody tr th:only-of-type {\n",
       "        vertical-align: middle;\n",
       "    }\n",
       "\n",
       "    .dataframe tbody tr th {\n",
       "        vertical-align: top;\n",
       "    }\n",
       "\n",
       "    .dataframe thead th {\n",
       "        text-align: right;\n",
       "    }\n",
       "</style>\n",
       "<table border=\"1\" class=\"dataframe\">\n",
       "  <thead>\n",
       "    <tr style=\"text-align: right;\">\n",
       "      <th></th>\n",
       "      <th>pc1</th>\n",
       "      <th>pc2</th>\n",
       "    </tr>\n",
       "  </thead>\n",
       "  <tbody>\n",
       "    <tr>\n",
       "      <th>0</th>\n",
       "      <td>0.501291</td>\n",
       "      <td>0.524829</td>\n",
       "    </tr>\n",
       "    <tr>\n",
       "      <th>1</th>\n",
       "      <td>-1.459560</td>\n",
       "      <td>3.105588</td>\n",
       "    </tr>\n",
       "    <tr>\n",
       "      <th>2</th>\n",
       "      <td>0.525795</td>\n",
       "      <td>0.823979</td>\n",
       "    </tr>\n",
       "    <tr>\n",
       "      <th>3</th>\n",
       "      <td>-0.362294</td>\n",
       "      <td>0.128123</td>\n",
       "    </tr>\n",
       "    <tr>\n",
       "      <th>4</th>\n",
       "      <td>1.266228</td>\n",
       "      <td>3.668708</td>\n",
       "    </tr>\n",
       "  </tbody>\n",
       "</table>\n",
       "</div>"
      ],
      "text/plain": [
       "        pc1       pc2\n",
       "0  0.501291  0.524829\n",
       "1 -1.459560  3.105588\n",
       "2  0.525795  0.823979\n",
       "3 -0.362294  0.128123\n",
       "4  1.266228  3.668708"
      ]
     },
     "execution_count": 6,
     "metadata": {},
     "output_type": "execute_result"
    }
   ],
   "source": [
    "X_pca_df = pd.DataFrame(data=X_pca, columns=['pc1', 'pc2'])\n",
    "X_pca_df.head()"
   ]
  },
  {
   "cell_type": "code",
   "execution_count": 7,
   "metadata": {},
   "outputs": [
    {
     "data": {
      "text/plain": [
       "<AxesSubplot:xlabel='pc1', ylabel='pc2'>"
      ]
     },
     "execution_count": 7,
     "metadata": {},
     "output_type": "execute_result"
    },
    {
     "data": {
      "image/png": "[encoded data removed]",
      "text/plain": [
       "<Figure size 640x480 with 1 Axes>"
      ]
     },
     "metadata": {},
     "output_type": "display_data"
    }
   ],
   "source": [
    "import seaborn as sns\n",
    "\n",
    "sns.scatterplot(x='pc1', y='pc2', data=X_pca_df)"
   ]
  },
  {
   "cell_type": "markdown",
   "metadata": {},
   "source": [
    "### K-Means\n",
    "\n",
    "Dari hasil visualisasi terlihat bahwa data terbagi ke dalam 3 cluster"
   ]
  },
  {
   "cell_type": "code",
   "execution_count": 8,
   "metadata": {},
   "outputs": [
    {
     "name": "stderr",
     "output_type": "stream",
     "text": [
      "f:\\miniconda3\\envs\\ml\\lib\\site-packages\\sklearn\\cluster\\_kmeans.py:1332: UserWarning: KMeans is known to have a memory leak on Windows with MKL, when there are less chunks than available threads. You can avoid it by setting the environment variable OMP_NUM_THREADS=3.\n",
      "  warnings.warn(\n"
     ]
    }
   ],
   "source": [
    "os.environ['OMP_NUM_THREADS'] = '3'\n",
    "from sklearn.cluster import KMeans, DBSCAN\n",
    "\n",
    "K = 3\n",
    "kmeans = KMeans(K)\n",
    "kmeans_df = X_pca_df.copy()\n",
    "kmeans_df['cluster'] = kmeans.fit_predict(X)\n",
    "# get centroids\n",
    "centroids = kmeans.cluster_centers_\n",
    "cen_x = [i[0] for i in centroids] \n",
    "cen_y = [i[1] for i in centroids]\n",
    "## add to df\n",
    "kmeans_df['cen_x'] = kmeans_df.cluster.map({0:cen_x[0], 1:cen_x[1], 2:cen_x[2]})\n",
    "kmeans_df['cen_y'] = kmeans_df.cluster.map({0:cen_y[0], 1:cen_y[1], 2:cen_y[2]})\n",
    "# define and map colors\n",
    "colors = ['#DF2020', '#81DF20', '#2095DF']\n",
    "kmeans_df['c'] = kmeans_df.cluster.map({0:colors[0], 1:colors[1], 2:colors[2]})"
   ]
  },
  {
   "cell_type": "code",
   "execution_count": 9,
   "metadata": {},
   "outputs": [
    {
     "data": {
      "text/plain": [
       "<matplotlib.collections.PathCollection at 0x1599d953010>"
      ]
     },
     "execution_count": 9,
     "metadata": {},
     "output_type": "execute_result"
    },
    {
     "data": {
      "image/png": "[encoded data removed]",
      "text/plain": [
       "<Figure size 640x480 with 1 Axes>"
      ]
     },
     "metadata": {},
     "output_type": "display_data"
    }
   ],
   "source": [
    "plt.scatter(kmeans_df.pc1, kmeans_df.pc2, c=kmeans_df.c, alpha = 0.6, s=10)"
   ]
  },
  {
   "cell_type": "markdown",
   "metadata": {},
   "source": [
    "### DBSCAN\n",
    "\n",
    "DBSCAN memerlukan parameter $\\epsilon$ dan `minPts`. `minPts` didapat dari `2 * jumlah fitur`.\n",
    "\n",
    "Untuk mencari $\\epsilon$ yang optimal kita gunakan algoritma KNN. `NearestNeighbors` memerlukan `n_neighbors` yang mana sama dengan `minPts`, tapi ditambah satu karena kolom pertama bernilai 0 semua."
   ]
  },
  {
   "cell_type": "code",
   "execution_count": 10,
   "metadata": {},
   "outputs": [],
   "source": [
    "import numpy as np\n",
    "from sklearn.neighbors import NearestNeighbors\n",
    "\n",
    "nbrs = NearestNeighbors(n_neighbors=11).fit(X)\n",
    "neigh_dist , neigh_ind = nbrs.kneighbors(X)\n",
    "sort_neigh_dist = np.sort(neigh_dist, axis=0)"
   ]
  },
  {
   "cell_type": "code",
   "execution_count": 8,
   "metadata": {},
   "outputs": [
    {
     "data": {
      "application/vnd.plotly.v1+json": {
       "config": {
        "plotlyServerURL": "https://plot.ly"
       },
       "data": [
        {
         "hovertemplate": "variable=0<br>index=%{x}<br>value=%{y}<extra></extra>",
         "legendgroup": "0",
         "line": {
          "color": "#636efa",
          "dash": "solid"
         },
         "marker": {
          "symbol": "circle"
         },
         "mode": "lines",
         "name": "0",
         "orientation": "v",
         "showlegend": true,
         "type": "scatter",
         "x": [
          0,
          1,
          2,
          3,
          4,
          5,
          6,
          7,
          8,
          9,
          10,
          11,
          12,
          13,
          14,
          15,
          16,
          17,
          18,
          19,
          20,
          21,
          22,
          23,
          24,
          25,
          26,
          27,
          28,
          29,
          30,
          31,
          32,
          33,
          34,
          35,
          36,
          37,
          38,
          39,
          40,
          41,
          42,
          43,
          44,
          45,
          46,
          47,
          48,
          49,
          50,
          51,
          52,
          53,
          54,
          55,
          56,
          57,
          58,
          59,
          60,
          61,
          62,
          63,
          64,
          65,
          66,
          67,
          68,
          69,
          70,
          71,
          72,
          73,
          74,
          75,
          76,
          77,
          78,
          79,
          80,
          81,
          82,
          83,
          84,
          85,
          86,
          87,
          88,
          89,
          90,
          91,
          92,
          93,
          94,
          95,
          96,
          97,
          98,
          99,
          100,
          101,
          102,
          103,
          104,
          105,
          106,
          107,
          108,
          109,
          110,
          111,
          112,
          113,
          114,
          115,
          116,
          117,
          118,
          119,
          120,
          121,
          122,
          123,
          124,
          125,
          126,
          127,
          128,
          129,
          130,
          131,
          132,
          133,
          134,
          135,
          136,
          137,
          138,
          139,
          140,
          141,
          142,
          143,
          144,
          145,
          146,
          147,
          148,
          149,
          150,
          151,
          152,
          153,
          154,
          155,
          156,
          157,
          158,
          159,
          160,
          161,
          162,
          163,
          164,
          165,
          166,
          167,
          168,
          169,
          170,
          171,
          172,
          173,
          174,
          175,
          176,
          177,
          178,
          179,
          180,
          181,
          182,
          183,
          184,
          185,
          186,
          187,
          188,
          189,
          190,
          191,
          192,
          193,
          194,
          195,
          196,
          197,
          198,
          199,
          200,
          201,
          202,
          203,
          204,
          205,
          206,
          207,
          208,
          209,
          210,
          211,
          212,
          213,
          214,
          215,
          216,
          217,
          218,
          219,
          220,
          221,
          222,
          223,
          224,
          225,
          226,
          227,
          228,
          229,
          230,
          231,
          232,
          233,
          234,
          235,
          236,
          237,
          238,
          239,
          240,
          241,
          242,
          243,
          244,
          245,
          246,
          247,
          248,
          249,
          250,
          251,
          252,
          253,
          254,
          255,
          256,
          257,
          258,
          259,
          260,
          261,
          262,
          263,
          264,
          265,
          266,
          267,
          268,
          269,
          270,
          271,
          272,
          273,
          274,
          275,
          276,
          277,
          278,
          279,
          280,
          281,
          282,
          283,
          284,
          285,
          286,
          287,
          288,
          289,
          290,
          291,
          292,
          293,
          294,
          295,
          296,
          297,
          298,
          299,
          300,
          301,
          302,
          303,
          304,
          305,
          306,
          307,
          308,
          309,
          310,
          311,
          312,
          313,
          314,
          315,
          316,
          317,
          318,
          319,
          320,
          321,
          322,
          323,
          324,
          325,
          326,
          327,
          328,
          329,
          330,
          331,
          332,
          333,
          334,
          335,
          336,
          337,
          338,
          339,
          340,
          341,
          342,
          343,
          344,
          345,
          346,
          347,
          348,
          349,
          350,
          351,
          352,
          353,
          354,
          355,
          356,
          357,
          358,
          359,
          360,
          361,
          362,
          363,
          364,
          365,
          366,
          367,
          368,
          369,
          370,
          371,
          372,
          373,
          374,
          375,
          376,
          377,
          378,
          379,
          380,
          381,
          382,
          383,
          384,
          385,
          386,
          387,
          388,
          389,
          390,
          391,
          392,
          393,
          394,
          395,
          396,
          397,
          398,
          399,
          400,
          401,
          402,
          403,
          404,
          405,
          406,
          407,
          408,
          409,
          410,
          411,
          412,
          413,
          414,
          415,
          416,
          417,
          418,
          419,
          420,
          421,
          422,
          423,
          424,
          425,
          426,
          427,
          428,
          429,
          430,
          431,
          432,
          433,
          434,
          435,
          436,
          437,
          438,
          439,
          440,
          441,
          442,
          443,
          444,
          445,
          446,
          447,
          448,
          449,
          450,
          451,
          452,
          453,
          454,
          455,
          456,
          457,
          458,
          459,
          460,
          461,
          462,
          463,
          464,
          465,
          466,
          467,
          468,
          469,
          470,
          471,
          472,
          473,
          474,
          475,
          476,
          477,
          478,
          479,
          480,
          481,
          482,
          483,
          484,
          485,
          486,
          487,
          488,
          489,
          490,
          491,
          492,
          493,
          494,
          495,
          496,
          497,
          498,
          499,
          500,
          501,
          502,
          503,
          504,
          505,
          506,
          507,
          508,
          509,
          510,
          511,
          512,
          513,
          514,
          515,
          516,
          517,
          518,
          519,
          520,
          521,
          522,
          523,
          524,
          525,
          526,
          527,
          528,
          529,
          530,
          531,
          532,
          533,
          534,
          535,
          536,
          537,
          538,
          539,
          540,
          541,
          542,
          543,
          544,
          545,
          546,
          547,
          548,
          549,
          550,
          551,
          552,
          553,
          554,
          555,
          556,
          557,
          558,
          559,
          560,
          561,
          562,
          563,
          564,
          565,
          566,
          567,
          568,
          569,
          570,
          571,
          572,
          573,
          574,
          575,
          576,
          577,
          578,
          579,
          580,
          581,
          582,
          583,
          584,
          585,
          586,
          587,
          588,
          589,
          590,
          591,
          592,
          593,
          594,
          595,
          596,
          597,
          598,
          599,
          600,
          601,
          602,
          603,
          604,
          605,
          606,
          607,
          608,
          609,
          610,
          611,
          612,
          613,
          614,
          615,
          616,
          617,
          618,
          619,
          620,
          621,
          622,
          623,
          624,
          625,
          626,
          627,
          628,
          629,
          630,
          631,
          632,
          633,
          634,
          635,
          636,
          637,
          638,
          639,
          640,
          641,
          642,
          643,
          644,
          645,
          646,
          647,
          648,
          649,
          650,
          651,
          652,
          653,
          654,
          655,
          656,
          657,
          658,
          659
         ],
         "xaxis": "x",
         "y": [
          0.341925883962471,
          0.34501543842670784,
          0.34577251883491056,
          0.3492662422432713,
          0.34926624224327135,
          0.350104113755038,
          0.3501041137550381,
          0.3501041137550381,
          0.3501041137550381,
          0.35027754069283534,
          0.35027754069283534,
          0.35027754069283534,
          0.35027754069283534,
          0.35027754069283534,
          0.35027754069283534,
          0.35027754069283534,
          0.3502775406928354,
          0.3502775406928354,
          0.3502775406928354,
          0.35329406751752457,
          0.35329406751752457,
          0.35329406751752457,
          0.3532940675175246,
          0.3532940675175246,
          0.3532940675175246,
          0.3532940675175246,
          0.3532940675175246,
          0.35710645929442203,
          0.35710645929442203,
          0.35710645929442203,
          0.35710645929442203,
          0.35710645929442203,
          0.35710645929442203,
          0.35710645929442203,
          0.35826517533595753,
          0.35826517533595753,
          0.35826517533595753,
          0.35826517533595753,
          0.35826517533595753,
          0.3582651753359576,
          0.3582651753359576,
          0.35826517533595764,
          0.36511103606999123,
          0.36511103606999123,
          0.36511103606999123,
          0.3651110360699913,
          0.3651110360699913,
          0.3651110360699913,
          0.3659126277645629,
          0.3659126277645629,
          0.36591262776456296,
          0.36591262776456296,
          0.36591262776456296,
          0.37372864025636476,
          0.37372864025636476,
          0.37372864025636476,
          0.3737286402563648,
          0.3737286402563648,
          0.3737286402563648,
          0.3737286402563648,
          0.3737286402563649,
          0.3737286402563649,
          0.3737286402563649,
          0.3737286402563649,
          0.37639603362881946,
          0.37639603362881946,
          0.37639603362881946,
          0.37639603362881946,
          0.3763960336288195,
          0.3839987233335694,
          0.3839987233335694,
          0.3839987233335694,
          0.3839987233335694,
          0.3839987233335694,
          0.3839987233335694,
          0.3839987233335694,
          0.3884208956681116,
          0.3884208956681116,
          0.3884208956681116,
          0.3884208956681116,
          0.3884208956681116,
          0.38842089566811167,
          0.38842089566811167,
          0.38842089566811167,
          0.395792669944659,
          0.39579266994465906,
          0.39579266994465906,
          0.39579266994465906,
          0.39579266994465906,
          0.39579266994465906,
          0.39579266994465906,
          0.3957926699446591,
          0.3957926699446591,
          0.3957926699446591,
          0.3957926699446592,
          0.3957926699446592,
          0.3957926699446592,
          0.39896829096335834,
          0.40184885882368704,
          0.4018488588236871,
          0.4018488588236871,
          0.40897866781557607,
          0.40897866781557607,
          0.40897866781557607,
          0.4089786678155761,
          0.4089786678155761,
          0.4089786678155761,
          0.4165442516352278,
          0.42342668664203925,
          0.42342668664203925,
          0.42342668664203925,
          0.42342668664203925,
          0.4234266866420393,
          0.4234266866420393,
          0.4234266866420393,
          0.4234266866420393,
          0.42342668664203936,
          0.42342668664203936,
          0.42342668664203936,
          0.42342668664203936,
          0.42556617702758215,
          0.4255661770275822,
          0.4255661770275822,
          0.4323778635510557,
          0.4323778635510557,
          0.4323778635510557,
          0.4323778635510557,
          0.4390121436580986,
          0.4390121436580986,
          0.4390121436580986,
          0.4390121436580986,
          0.4390121436580986,
          0.4390121436580986,
          0.4390121436580986,
          0.4390121436580986,
          0.43901214365809865,
          0.4492293571147921,
          0.4492293571147921,
          0.4492293571147921,
          0.45216406309180607,
          0.45216406309180607,
          0.4521640630918061,
          0.4556183278623382,
          0.4556183278623383,
          0.4556183278623384,
          0.46163960937189863,
          0.46163960937189863,
          0.4616396093718987,
          0.46163960937189874,
          0.46163960937189874,
          0.46163960937189874,
          0.46163960937189874,
          0.46163960937189874,
          0.462405208106618,
          0.462405208106618,
          0.462405208106618,
          0.462405208106618,
          0.462405208106618,
          0.462405208106618,
          0.462405208106618,
          0.462405208106618,
          0.46469443628408214,
          0.46469443628408214,
          0.46469443628408225,
          0.46469443628408225,
          0.46469443628408225,
          0.46469443628408225,
          0.4646944362840823,
          0.4646944362840823,
          0.4646944362840823,
          0.4646944362840823,
          0.4669885531624244,
          0.4669885531624244,
          0.4669885531624244,
          0.46848495902089327,
          0.4684849590208933,
          0.4684849590208934,
          0.4684849590208934,
          0.4684849590208934,
          0.4684849590208934,
          0.47313777504553384,
          0.47313777504553384,
          0.47313777504553384,
          0.4731377750455339,
          0.4731377750455339,
          0.4731377750455339,
          0.4731377750455339,
          0.47374074094424906,
          0.47374074094424906,
          0.47374074094424906,
          0.47374074094424906,
          0.47374074094424923,
          0.47374074094424923,
          0.47374074094424923,
          0.47876194915603,
          0.47876194915603,
          0.47876194915603004,
          0.48041369414097174,
          0.48041369414097174,
          0.48041369414097174,
          0.48041369414097174,
          0.48041369414097174,
          0.48041369414097174,
          0.48041369414097174,
          0.48041369414097174,
          0.48041369414097174,
          0.4855558643059213,
          0.4855558643059213,
          0.4880499672688926,
          0.4880499672688926,
          0.48804996726889266,
          0.48804996726889266,
          0.48804996726889266,
          0.48804996726889266,
          0.48804996726889266,
          0.48804996726889266,
          0.48804996726889266,
          0.4880499672688927,
          0.4880499672688927,
          0.4880499672688927,
          0.4880499672688928,
          0.48844573955774745,
          0.48844573955774745,
          0.4884457395577475,
          0.4884457395577475,
          0.4884457395577475,
          0.4884457395577475,
          0.4884457395577475,
          0.48844573955774756,
          0.4887741994973268,
          0.4887741994973268,
          0.48877419949732687,
          0.48877419949732687,
          0.48877419949732687,
          0.4887741994973269,
          0.4887741994973269,
          0.4887741994973269,
          0.4887741994973269,
          0.4887741994973269,
          0.488774199497327,
          0.488774199497327,
          0.488774199497327,
          0.488774199497327,
          0.4909404859282935,
          0.4909404859282935,
          0.49094048592829354,
          0.49094048592829354,
          0.49094048592829354,
          0.49094048592829354,
          0.4909404859282936,
          0.49094048592829365,
          0.49094048592829365,
          0.4945298761843779,
          0.4945298761843779,
          0.4945298761843779,
          0.4945298761843779,
          0.4945298761843779,
          0.4945298761843779,
          0.4945298761843779,
          0.4945298761843779,
          0.4945298761843779,
          0.49452987618437794,
          0.49452987618437794,
          0.49452987618437794,
          0.494529876184378,
          0.49452987618437805,
          0.49452987618437805,
          0.497771090514732,
          0.49777109051473206,
          0.4977710905147321,
          0.49951169279660923,
          0.49951169279660923,
          0.4995116927966093,
          0.4995116927966093,
          0.4995116927966093,
          0.4995116927966093,
          0.49951169279660934,
          0.49951169279660934,
          0.4995116927966094,
          0.4995116927966094,
          0.50484213475618,
          0.50484213475618,
          0.50484213475618,
          0.50484213475618,
          0.50484213475618,
          0.50484213475618,
          0.505844797470828,
          0.505844797470828,
          0.505844797470828,
          0.505844797470828,
          0.5058447974708281,
          0.5058447974708281,
          0.5058447974708281,
          0.5058447974708281,
          0.5058447974708281,
          0.5058447974708281,
          0.5058447974708281,
          0.5058447974708281,
          0.5058447974708282,
          0.5058447974708282,
          0.5083185730410675,
          0.5083185730410675,
          0.5083185730410675,
          0.5083185730410675,
          0.5083185730410675,
          0.5083185730410675,
          0.510535626979627,
          0.5105356269796271,
          0.5105356269796271,
          0.5134791934462806,
          0.5134791934462806,
          0.5134791934462806,
          0.5134791934462806,
          0.5134791934462807,
          0.5134791934462807,
          0.5134791934462807,
          0.5134791934462807,
          0.5134791934462808,
          0.5200138266728678,
          0.5200138266728679,
          0.5200138266728679,
          0.5200138266728679,
          0.5200138266728679,
          0.5223578277027668,
          0.5223578277027668,
          0.5223578277027668,
          0.522357827702767,
          0.522357827702767,
          0.522357827702767,
          0.522357827702767,
          0.522357827702767,
          0.522357827702767,
          0.5247681009499859,
          0.5247681009499859,
          0.524768100949986,
          0.5319577212844777,
          0.5324184569571523,
          0.5324184569571523,
          0.5324184569571524,
          0.5327812714891382,
          0.5327812714891382,
          0.5327812714891382,
          0.5327812714891382,
          0.5435954576163118,
          0.5435954576163118,
          0.5435954576163118,
          0.5435954576163118,
          0.5435954576163118,
          0.5435954576163119,
          0.5435954576163119,
          0.5435954576163119,
          0.5435954576163119,
          0.543595457616312,
          0.5452636367944439,
          0.5452636367944439,
          0.5465457726982954,
          0.5465457726982954,
          0.5465457726982955,
          0.5465457726982955,
          0.5465457726982955,
          0.5465457726982955,
          0.5465457726982955,
          0.5465457726982955,
          0.5465457726982955,
          0.5505392619973684,
          0.555821486504175,
          0.555821486504175,
          0.555821486504175,
          0.555821486504175,
          0.555821486504175,
          0.555821486504175,
          0.5558214865041751,
          0.5558214865041751,
          0.56123397540183,
          0.5612339754018301,
          0.5612339754018301,
          0.5662669004384087,
          0.5662669004384087,
          0.5690289300769381,
          0.5690289300769381,
          0.5690289300769381,
          0.5690289300769381,
          0.5690289300769381,
          0.5713486220534939,
          0.571348622053494,
          0.571348622053494,
          0.5738614741568481,
          0.5738614741568481,
          0.5738614741568481,
          0.5738614741568482,
          0.5738614741568482,
          0.5738614741568482,
          0.5738614741568482,
          0.5744775357353464,
          0.5744775357353465,
          0.5744775357353465,
          0.5763217692346982,
          0.5763217692346982,
          0.5763217692346982,
          0.5763217692346982,
          0.5763217692346982,
          0.5763217692346982,
          0.5763217692346982,
          0.5788765299368896,
          0.5788765299368896,
          0.5788765299368896,
          0.5788765299368896,
          0.5788765299368896,
          0.5788765299368898,
          0.5788765299368898,
          0.5788765299368898,
          0.579382446583636,
          0.579382446583636,
          0.5793824465836361,
          0.5793824465836361,
          0.5793824465836361,
          0.5793824465836361,
          0.5794872599590607,
          0.5794872599590608,
          0.5794872599590608,
          0.5794872599590608,
          0.5794872599590609,
          0.5794872599590609,
          0.5794872599590609,
          0.5794872599590609,
          0.5794872599590609,
          0.5794872599590609,
          0.5794872599590609,
          0.5794872599590609,
          0.5813156002414837,
          0.5813156002414837,
          0.5813156002414837,
          0.5813156002414838,
          0.5813156002414838,
          0.5813156002414838,
          0.5813156002414838,
          0.5813156002414838,
          0.5813156002414838,
          0.5813156002414838,
          0.5831511097095416,
          0.5831511097095416,
          0.5831511097095416,
          0.5831511097095416,
          0.5831511097095416,
          0.5831511097095416,
          0.5831511097095418,
          0.5836404305827673,
          0.5836404305827673,
          0.5843501217588164,
          0.5843501217588164,
          0.5851534934129256,
          0.5851534934129256,
          0.5877234609406986,
          0.5885721685580635,
          0.5885721685580637,
          0.5885721685580637,
          0.5885721685580637,
          0.5885721685580637,
          0.5885721685580637,
          0.5885721685580637,
          0.5885721685580637,
          0.5890697582617926,
          0.5890697582617926,
          0.5890697582617926,
          0.5890697582617926,
          0.5890697582617926,
          0.5926212212960456,
          0.5926212212960456,
          0.5931027292010926,
          0.593956417162834,
          0.593956417162834,
          0.593956417162834,
          0.593956417162834,
          0.5939564171628341,
          0.5939564171628342,
          0.5939564171628342,
          0.5939564171628342,
          0.5956383995953808,
          0.5956383995953809,
          0.5956383995953809,
          0.5981232359076228,
          0.5981232359076228,
          0.5981232359076228,
          0.5981232359076228,
          0.600471605042945,
          0.600471605042945,
          0.600471605042945,
          0.6080813814967212,
          0.6101531169593926,
          0.6117513794771494,
          0.6117513794771494,
          0.6120405495381321,
          0.6132801453978302,
          0.6132801453978303,
          0.6132801453978303,
          0.6138566479906112,
          0.6138566479906112,
          0.6138831232375691,
          0.6138831232375691,
          0.6138831232375692,
          0.6143089377703841,
          0.6167452307632727,
          0.6167452307632728,
          0.6167452307632728,
          0.6184493226020648,
          0.6184493226020648,
          0.6217879401463101,
          0.6217879401463101,
          0.6217879401463101,
          0.6224401155360656,
          0.6224401155360657,
          0.6264194185222031,
          0.6264194185222031,
          0.6275338439608812,
          0.6275338439608813,
          0.6275338439608813,
          0.6275338439608813,
          0.6278675815575373,
          0.6278675815575373,
          0.6325043445147349,
          0.6325043445147349,
          0.632504344514735,
          0.6337039121626593,
          0.6337039121626594,
          0.6363693308173404,
          0.6370579182620041,
          0.6370579182620041,
          0.6370579182620041,
          0.6370579182620041,
          0.6383492655413734,
          0.6409192354348324,
          0.6409192354348324,
          0.6409192354348324,
          0.6409192354348324,
          0.6441414008079348,
          0.6441414008079349,
          0.6461915110033015,
          0.6461915110033016,
          0.6461915110033016,
          0.6475332744971788,
          0.6486132820295252,
          0.6486132820295252,
          0.6486132820295253,
          0.6486132820295253,
          0.649144960310601,
          0.6566501638816317,
          0.6566501638816317,
          0.6583432142348731,
          0.6583432142348732,
          0.6583432142348732,
          0.6583432142348732,
          0.6583432142348732,
          0.6587649614782288,
          0.6610374294365466,
          0.6610374294365466,
          0.6684738521795204,
          0.6699818104269022,
          0.6717915595571341,
          0.6738944202651839,
          0.6738944202651839,
          0.673894420265184,
          0.6742823382628477,
          0.6742823382628477,
          0.6765138042789486,
          0.6772078509835681,
          0.6794951725012632,
          0.6801639950641121,
          0.6801639950641121,
          0.6814627787517717,
          0.6817796200545503,
          0.6817796200545503,
          0.684088232588616,
          0.6864331564030804,
          0.6883006286184258,
          0.6900308768534158,
          0.6904867928087272,
          0.6904867928087272,
          0.6915450376698211,
          0.6946291376690606,
          0.6971146455952514,
          0.6985324844865426,
          0.6985324844865426,
          0.7021579928069616,
          0.7030460398195824,
          0.7030460398195824,
          0.7030751451805924,
          0.7046847112359358,
          0.7046847112359359,
          0.7062626227211835,
          0.7102580324063137,
          0.7131669863938787,
          0.713735669137592,
          0.7141460550172851,
          0.7141460550172852,
          0.7142129185888441,
          0.7142129185888444,
          0.7181821727716828,
          0.7195738397625995,
          0.7318252555291259,
          0.7327380515610911,
          0.7327380515610912,
          0.7413647215167011,
          0.7464711031038342,
          0.7717452258148357,
          0.7774937600197177,
          0.77904419274991,
          0.795242397336861,
          0.8025668877310993,
          0.8071518422910514,
          0.8180927760794724,
          0.8330885032704559,
          0.8372925180747653,
          0.8389806618726815,
          0.8404576093259559,
          0.8404576093259559,
          0.9042166089000122,
          0.9135570134614961,
          0.9339771063248483,
          0.9415604597106476,
          0.9415604597106476,
          0.9828630526672383,
          0.9902286146294751,
          0.9941785587019679,
          0.9970905630308274,
          1.0028629730694185,
          1.0028629730694185,
          1.0045378804933534,
          1.0166944719728686,
          1.0257554920910545,
          1.0294594863599915,
          1.0344800583001066,
          1.0490656894869212,
          1.0490656894869212,
          1.0619915609546113,
          1.0635605240875154,
          1.0737352544824714,
          1.0768793963382173,
          1.0776743666914732,
          1.0984937218915398,
          1.1076819643985167,
          1.112037303985011,
          1.116352650859251,
          1.1198326500216076,
          1.1407196527971837,
          1.147286861754655,
          1.1706462658928427,
          1.181344514034704,
          1.181344514034704,
          1.1897510955625619,
          1.195978289015779,
          1.2103210469158665,
          1.2113865075183865,
          1.2660161147455966,
          1.2818613591479948,
          1.3439276357637773,
          1.4011697981425453,
          1.6581804976556198,
          1.727247685168497,
          1.946181712613893,
          2.023453949176361
         ],
         "yaxis": "y"
        }
       ],
       "layout": {
        "legend": {
         "title": {
          "text": "variable"
         },
         "tracegroupgap": 0
        },
        "margin": {
         "t": 60
        },
        "template": {
         "data": {
          "bar": [
           {
            "error_x": {
             "color": "#2a3f5f"
            },
            "error_y": {
             "color": "#2a3f5f"
            },
            "marker": {
             "line": {
              "color": "#E5ECF6",
              "width": 0.5
             },
             "pattern": {
              "fillmode": "overlay",
              "size": 10,
              "solidity": 0.2
             }
            },
            "type": "bar"
           }
          ],
          "barpolar": [
           {
            "marker": {
             "line": {
              "color": "#E5ECF6",
              "width": 0.5
             },
             "pattern": {
              "fillmode": "overlay",
              "size": 10,
              "solidity": 0.2
             }
            },
            "type": "barpolar"
           }
          ],
          "carpet": [
           {
            "aaxis": {
             "endlinecolor": "#2a3f5f",
             "gridcolor": "white",
             "linecolor": "white",
             "minorgridcolor": "white",
             "startlinecolor": "#2a3f5f"
            },
            "baxis": {
             "endlinecolor": "#2a3f5f",
             "gridcolor": "white",
             "linecolor": "white",
             "minorgridcolor": "white",
             "startlinecolor": "#2a3f5f"
            },
            "type": "carpet"
           }
          ],
          "choropleth": [
           {
            "colorbar": {
             "outlinewidth": 0,
             "ticks": ""
            },
            "type": "choropleth"
           }
          ],
          "contour": [
           {
            "colorbar": {
             "outlinewidth": 0,
             "ticks": ""
            },
            "colorscale": [
             [
              0,
              "#0d0887"
             ],
             [
              0.1111111111111111,
              "#46039f"
             ],
             [
              0.2222222222222222,
              "#7201a8"
             ],
             [
              0.3333333333333333,
              "#9c179e"
             ],
             [
              0.4444444444444444,
              "#bd3786"
             ],
             [
              0.5555555555555556,
              "#d8576b"
             ],
             [
              0.6666666666666666,
              "#ed7953"
             ],
             [
              0.7777777777777778,
              "#fb9f3a"
             ],
             [
              0.8888888888888888,
              "#fdca26"
             ],
             [
              1,
              "#f0f921"
             ]
            ],
            "type": "contour"
           }
          ],
          "contourcarpet": [
           {
            "colorbar": {
             "outlinewidth": 0,
             "ticks": ""
            },
            "type": "contourcarpet"
           }
          ],
          "heatmap": [
           {
            "colorbar": {
             "outlinewidth": 0,
             "ticks": ""
            },
            "colorscale": [
             [
              0,
              "#0d0887"
             ],
             [
              0.1111111111111111,
              "#46039f"
             ],
             [
              0.2222222222222222,
              "#7201a8"
             ],
             [
              0.3333333333333333,
              "#9c179e"
             ],
             [
              0.4444444444444444,
              "#bd3786"
             ],
             [
              0.5555555555555556,
              "#d8576b"
             ],
             [
              0.6666666666666666,
              "#ed7953"
             ],
             [
              0.7777777777777778,
              "#fb9f3a"
             ],
             [
              0.8888888888888888,
              "#fdca26"
             ],
             [
              1,
              "#f0f921"
             ]
            ],
            "type": "heatmap"
           }
          ],
          "heatmapgl": [
           {
            "colorbar": {
             "outlinewidth": 0,
             "ticks": ""
            },
            "colorscale": [
             [
              0,
              "#0d0887"
             ],
             [
              0.1111111111111111,
              "#46039f"
             ],
             [
              0.2222222222222222,
              "#7201a8"
             ],
             [
              0.3333333333333333,
              "#9c179e"
             ],
             [
              0.4444444444444444,
              "#bd3786"
             ],
             [
              0.5555555555555556,
              "#d8576b"
             ],
             [
              0.6666666666666666,
              "#ed7953"
             ],
             [
              0.7777777777777778,
              "#fb9f3a"
             ],
             [
              0.8888888888888888,
              "#fdca26"
             ],
             [
              1,
              "#f0f921"
             ]
            ],
            "type": "heatmapgl"
           }
          ],
          "histogram": [
           {
            "marker": {
             "pattern": {
              "fillmode": "overlay",
              "size": 10,
              "solidity": 0.2
             }
            },
            "type": "histogram"
           }
          ],
          "histogram2d": [
           {
            "colorbar": {
             "outlinewidth": 0,
             "ticks": ""
            },
            "colorscale": [
             [
              0,
              "#0d0887"
             ],
             [
              0.1111111111111111,
              "#46039f"
             ],
             [
              0.2222222222222222,
              "#7201a8"
             ],
             [
              0.3333333333333333,
              "#9c179e"
             ],
             [
              0.4444444444444444,
              "#bd3786"
             ],
             [
              0.5555555555555556,
              "#d8576b"
             ],
             [
              0.6666666666666666,
              "#ed7953"
             ],
             [
              0.7777777777777778,
              "#fb9f3a"
             ],
             [
              0.8888888888888888,
              "#fdca26"
             ],
             [
              1,
              "#f0f921"
             ]
            ],
            "type": "histogram2d"
           }
          ],
          "histogram2dcontour": [
           {
            "colorbar": {
             "outlinewidth": 0,
             "ticks": ""
            },
            "colorscale": [
             [
              0,
              "#0d0887"
             ],
             [
              0.1111111111111111,
              "#46039f"
             ],
             [
              0.2222222222222222,
              "#7201a8"
             ],
             [
              0.3333333333333333,
              "#9c179e"
             ],
             [
              0.4444444444444444,
              "#bd3786"
             ],
             [
              0.5555555555555556,
              "#d8576b"
             ],
             [
              0.6666666666666666,
              "#ed7953"
             ],
             [
              0.7777777777777778,
              "#fb9f3a"
             ],
             [
              0.8888888888888888,
              "#fdca26"
             ],
             [
              1,
              "#f0f921"
             ]
            ],
            "type": "histogram2dcontour"
           }
          ],
          "mesh3d": [
           {
            "colorbar": {
             "outlinewidth": 0,
             "ticks": ""
            },
            "type": "mesh3d"
           }
          ],
          "parcoords": [
           {
            "line": {
             "colorbar": {
              "outlinewidth": 0,
              "ticks": ""
             }
            },
            "type": "parcoords"
           }
          ],
          "pie": [
           {
            "automargin": true,
            "type": "pie"
           }
          ],
          "scatter": [
           {
            "fillpattern": {
             "fillmode": "overlay",
             "size": 10,
             "solidity": 0.2
            },
            "type": "scatter"
           }
          ],
          "scatter3d": [
           {
            "line": {
             "colorbar": {
              "outlinewidth": 0,
              "ticks": ""
             }
            },
            "marker": {
             "colorbar": {
              "outlinewidth": 0,
              "ticks": ""
             }
            },
            "type": "scatter3d"
           }
          ],
          "scattercarpet": [
           {
            "marker": {
             "colorbar": {
              "outlinewidth": 0,
              "ticks": ""
             }
            },
            "type": "scattercarpet"
           }
          ],
          "scattergeo": [
           {
            "marker": {
             "colorbar": {
              "outlinewidth": 0,
              "ticks": ""
             }
            },
            "type": "scattergeo"
           }
          ],
          "scattergl": [
           {
            "marker": {
             "colorbar": {
              "outlinewidth": 0,
              "ticks": ""
             }
            },
            "type": "scattergl"
           }
          ],
          "scattermapbox": [
           {
            "marker": {
             "colorbar": {
              "outlinewidth": 0,
              "ticks": ""
             }
            },
            "type": "scattermapbox"
           }
          ],
          "scatterpolar": [
           {
            "marker": {
             "colorbar": {
              "outlinewidth": 0,
              "ticks": ""
             }
            },
            "type": "scatterpolar"
           }
          ],
          "scatterpolargl": [
           {
            "marker": {
             "colorbar": {
              "outlinewidth": 0,
              "ticks": ""
             }
            },
            "type": "scatterpolargl"
           }
          ],
          "scatterternary": [
           {
            "marker": {
             "colorbar": {
              "outlinewidth": 0,
              "ticks": ""
             }
            },
            "type": "scatterternary"
           }
          ],
          "surface": [
           {
            "colorbar": {
             "outlinewidth": 0,
             "ticks": ""
            },
            "colorscale": [
             [
              0,
              "#0d0887"
             ],
             [
              0.1111111111111111,
              "#46039f"
             ],
             [
              0.2222222222222222,
              "#7201a8"
             ],
             [
              0.3333333333333333,
              "#9c179e"
             ],
             [
              0.4444444444444444,
              "#bd3786"
             ],
             [
              0.5555555555555556,
              "#d8576b"
             ],
             [
              0.6666666666666666,
              "#ed7953"
             ],
             [
              0.7777777777777778,
              "#fb9f3a"
             ],
             [
              0.8888888888888888,
              "#fdca26"
             ],
             [
              1,
              "#f0f921"
             ]
            ],
            "type": "surface"
           }
          ],
          "table": [
           {
            "cells": {
             "fill": {
              "color": "#EBF0F8"
             },
             "line": {
              "color": "white"
             }
            },
            "header": {
             "fill": {
              "color": "#C8D4E3"
             },
             "line": {
              "color": "white"
             }
            },
            "type": "table"
           }
          ]
         },
         "layout": {
          "annotationdefaults": {
           "arrowcolor": "#2a3f5f",
           "arrowhead": 0,
           "arrowwidth": 1
          },
          "autotypenumbers": "strict",
          "coloraxis": {
           "colorbar": {
            "outlinewidth": 0,
            "ticks": ""
           }
          },
          "colorscale": {
           "diverging": [
            [
             0,
             "#8e0152"
            ],
            [
             0.1,
             "#c51b7d"
            ],
            [
             0.2,
             "#de77ae"
            ],
            [
             0.3,
             "#f1b6da"
            ],
            [
             0.4,
             "#fde0ef"
            ],
            [
             0.5,
             "#f7f7f7"
            ],
            [
             0.6,
             "#e6f5d0"
            ],
            [
             0.7,
             "#b8e186"
            ],
            [
             0.8,
             "#7fbc41"
            ],
            [
             0.9,
             "#4d9221"
            ],
            [
             1,
             "#276419"
            ]
           ],
           "sequential": [
            [
             0,
             "#0d0887"
            ],
            [
             0.1111111111111111,
             "#46039f"
            ],
            [
             0.2222222222222222,
             "#7201a8"
            ],
            [
             0.3333333333333333,
             "#9c179e"
            ],
            [
             0.4444444444444444,
             "#bd3786"
            ],
            [
             0.5555555555555556,
             "#d8576b"
            ],
            [
             0.6666666666666666,
             "#ed7953"
            ],
            [
             0.7777777777777778,
             "#fb9f3a"
            ],
            [
             0.8888888888888888,
             "#fdca26"
            ],
            [
             1,
             "#f0f921"
            ]
           ],
           "sequentialminus": [
            [
             0,
             "#0d0887"
            ],
            [
             0.1111111111111111,
             "#46039f"
            ],
            [
             0.2222222222222222,
             "#7201a8"
            ],
            [
             0.3333333333333333,
             "#9c179e"
            ],
            [
             0.4444444444444444,
             "#bd3786"
            ],
            [
             0.5555555555555556,
             "#d8576b"
            ],
            [
             0.6666666666666666,
             "#ed7953"
            ],
            [
             0.7777777777777778,
             "#fb9f3a"
            ],
            [
             0.8888888888888888,
             "#fdca26"
            ],
            [
             1,
             "#f0f921"
            ]
           ]
          },
          "colorway": [
           "#636efa",
           "#EF553B",
           "#00cc96",
           "#ab63fa",
           "#FFA15A",
           "#19d3f3",
           "#FF6692",
           "#B6E880",
           "#FF97FF",
           "#FECB52"
          ],
          "font": {
           "color": "#2a3f5f"
          },
          "geo": {
           "bgcolor": "white",
           "lakecolor": "white",
           "landcolor": "#E5ECF6",
           "showlakes": true,
           "showland": true,
           "subunitcolor": "white"
          },
          "hoverlabel": {
           "align": "left"
          },
          "hovermode": "closest",
          "mapbox": {
           "style": "light"
          },
          "paper_bgcolor": "white",
          "plot_bgcolor": "#E5ECF6",
          "polar": {
           "angularaxis": {
            "gridcolor": "white",
            "linecolor": "white",
            "ticks": ""
           },
           "bgcolor": "#E5ECF6",
           "radialaxis": {
            "gridcolor": "white",
            "linecolor": "white",
            "ticks": ""
           }
          },
          "scene": {
           "xaxis": {
            "backgroundcolor": "#E5ECF6",
            "gridcolor": "white",
            "gridwidth": 2,
            "linecolor": "white",
            "showbackground": true,
            "ticks": "",
            "zerolinecolor": "white"
           },
           "yaxis": {
            "backgroundcolor": "#E5ECF6",
            "gridcolor": "white",
            "gridwidth": 2,
            "linecolor": "white",
            "showbackground": true,
            "ticks": "",
            "zerolinecolor": "white"
           },
           "zaxis": {
            "backgroundcolor": "#E5ECF6",
            "gridcolor": "white",
            "gridwidth": 2,
            "linecolor": "white",
            "showbackground": true,
            "ticks": "",
            "zerolinecolor": "white"
           }
          },
          "shapedefaults": {
           "line": {
            "color": "#2a3f5f"
           }
          },
          "ternary": {
           "aaxis": {
            "gridcolor": "white",
            "linecolor": "white",
            "ticks": ""
           },
           "baxis": {
            "gridcolor": "white",
            "linecolor": "white",
            "ticks": ""
           },
           "bgcolor": "#E5ECF6",
           "caxis": {
            "gridcolor": "white",
            "linecolor": "white",
            "ticks": ""
           }
          },
          "title": {
           "x": 0.05
          },
          "xaxis": {
           "automargin": true,
           "gridcolor": "white",
           "linecolor": "white",
           "ticks": "",
           "title": {
            "standoff": 15
           },
           "zerolinecolor": "white",
           "zerolinewidth": 2
          },
          "yaxis": {
           "automargin": true,
           "gridcolor": "white",
           "linecolor": "white",
           "ticks": "",
           "title": {
            "standoff": 15
           },
           "zerolinecolor": "white",
           "zerolinewidth": 2
          }
         }
        },
        "xaxis": {
         "anchor": "y",
         "domain": [
          0,
          1
         ],
         "title": {
          "text": "index"
         }
        },
        "yaxis": {
         "anchor": "x",
         "domain": [
          0,
          1
         ],
         "title": {
          "text": "value"
         }
        }
       }
      }
     },
     "metadata": {},
     "output_type": "display_data"
    }
   ],
   "source": [
    "import plotly.express as px\n",
    "\n",
    "k_dist = sort_neigh_dist[:, 4]\n",
    "fig = px.line(k_dist)\n",
    "fig.show()"
   ]
  },
  {
   "cell_type": "markdown",
   "metadata": {},
   "source": [
    "Dari plot diatas didapat bahwa nilai $\\epsilon$ terbaik adalah 0.8. Nilai diatas 0.8 adalah noise dan outliers"
   ]
  },
  {
   "cell_type": "code",
   "execution_count": 37,
   "metadata": {},
   "outputs": [
    {
     "data": {
      "text/plain": [
       " 0    606\n",
       "-1     54\n",
       "Name: cluster, dtype: int64"
      ]
     },
     "execution_count": 37,
     "metadata": {},
     "output_type": "execute_result"
    }
   ],
   "source": [
    "dbscan = DBSCAN(eps=0.8, min_samples=10)\n",
    "\n",
    "dbscan_df = X_pca_df.copy()\n",
    "dbscan_df['cluster'] = dbscan.fit_predict(X)\n",
    "dbscan_df.cluster.value_counts()"
   ]
  },
  {
   "cell_type": "markdown",
   "metadata": {},
   "source": [
    "Nilai -1 dianggap sebagai outlier"
   ]
  },
  {
   "cell_type": "code",
   "execution_count": 34,
   "metadata": {},
   "outputs": [],
   "source": [
    "\n",
    "# get centroids\n",
    "# centroids = dbscan.cluster_centers_\n",
    "# cen_x = [i[0] for i in centroids] \n",
    "# cen_y = [i[1] for i in centroids]\n",
    "# ## add to df\n",
    "# kmeans_df['cen_x'] = kmeans_df.cluster.map({0:cen_x[0], 1:cen_x[1], 2:cen_x[2]})\n",
    "# kmeans_df['cen_y'] = kmeans_df.cluster.map({0:cen_y[0], 1:cen_y[1], 2:cen_y[2]})\n",
    "# define and map colors\n",
    "colors = ['#DF2020', 'grey']\n",
    "dbscan_df['c'] = dbscan_df.cluster.map({0:colors[0], -1:colors[1]})"
   ]
  },
  {
   "cell_type": "code",
   "execution_count": 35,
   "metadata": {},
   "outputs": [
    {
     "data": {
      "text/plain": [
       "<matplotlib.collections.PathCollection at 0x159a027c100>"
      ]
     },
     "execution_count": 35,
     "metadata": {},
     "output_type": "execute_result"
    },
    {
     "data": {
      "image/png": "[encoded data removed]",
      "text/plain": [
       "<Figure size 640x480 with 1 Axes>"
      ]
     },
     "metadata": {},
     "output_type": "display_data"
    }
   ],
   "source": [
    "plt.scatter(dbscan_df.pc1, dbscan_df.pc2, c=dbscan_df.c, alpha = 0.6, s=10)"
   ]
  },
  {
   "cell_type": "markdown",
   "metadata": {},
   "source": [
    "Hasil clustering dengan DBSCAN menghasilkan 1 cluster saja dengan beberapa outlier. Warna abu-abu menunjukkan outliernya."
   ]
  },
  {
   "cell_type": "markdown",
   "metadata": {},
   "source": [
    "## Evaluasi Model"
   ]
  },
  {
   "cell_type": "code",
   "execution_count": 40,
   "metadata": {},
   "outputs": [],
   "source": [
    "from sklearn.metrics import silhouette_score, calinski_harabasz_score, davies_bouldin_score\n",
    "\n",
    "sil_sc_kmeans = silhouette_score(X, kmeans_df['cluster'])\n",
    "sil_sc_dbscan = silhouette_score(X, dbscan_df['cluster'])\n",
    "\n",
    "pd.Series([sil_sc_kmeans, sil_sc_dbscan], index=['kmeans', 'dbscan'])"
   ]
  },
  {
   "cell_type": "code",
   "execution_count": 39,
   "metadata": {},
   "outputs": [
    {
     "data": {
      "text/plain": [
       "kmeans    833.342627\n",
       "dbscan    332.423649\n",
       "dtype: float64"
      ]
     },
     "execution_count": 39,
     "metadata": {},
     "output_type": "execute_result"
    }
   ],
   "source": [
    "cal_har_kmeans = calinski_harabasz_score(X, kmeans_df['cluster'])\n",
    "cal_har_dbscan = calinski_harabasz_score(X, dbscan_df['cluster'])\n",
    "\n",
    "pd.Series([cal_har_kmeans, cal_har_dbscan], index=['kmeans', 'dbscan'])"
   ]
  },
  {
   "cell_type": "code",
   "execution_count": 41,
   "metadata": {},
   "outputs": [
    {
     "data": {
      "text/plain": [
       "kmeans    0.679699\n",
       "dbscan    0.725453\n",
       "dtype: float64"
      ]
     },
     "execution_count": 41,
     "metadata": {},
     "output_type": "execute_result"
    }
   ],
   "source": [
    "dav_bou_kmeans = davies_bouldin_score(X, kmeans_df['cluster'])\n",
    "dav_bou_dbscan = davies_bouldin_score(X, dbscan_df['cluster'])\n",
    "\n",
    "pd.Series([dav_bou_kmeans, dav_bou_dbscan], index=['kmeans', 'dbscan'])"
   ]
  },
  {
   "cell_type": "markdown",
   "metadata": {},
   "source": [
    "## Kesimpulan\n",
    "\n",
    "Evaluasi model menggunakan 3 metrik yaitu Silhouette Score, Calinski-Harabasz Score, dan Davies-Bouldin. Pada intinya nilai pada silhouette score dan Calinski-Harabasz Score lebih tinggi lebih baik, namun untuk Davies-Bouldin Score nilai lebih rendah yang lebih baik.\n",
    "\n",
    "| Model | Silhouette Score | Calinski-Harabasz Score | Davies-Bouldin Score\n",
    "--- | --- | --- | ---\n",
    "| K-Means | 0.515718 | 833.342627 | 0.679699\n",
    "| DBSCAN | 0.551147 | 332.423649 | 0.725453\n",
    "\n",
    "Dari perbandingan diatas model K-Means dengan 3 cluster lebih cocok untuk data ini."
   ]
  }
 ],
 "metadata": {
  "kernelspec": {
   "display_name": "Python 3.10.4 ('ml')",
   "language": "python",
   "name": "python3"
  },
  "language_info": {
   "codemirror_mode": {
    "name": "ipython",
    "version": 3
   },
   "file_extension": ".py",
   "mimetype": "text/x-python",
   "name": "python",
   "nbconvert_exporter": "python",
   "pygments_lexer": "ipython3",
   "version": "3.10.4"
  },
  "orig_nbformat": 4,
  "vscode": {
   "interpreter": {
    "hash": "44df5e550aa9771b226c78e63892865b3548976f24069b0543c81ed5fc37d049"
   }
  }
 },
 "nbformat": 4,
 "nbformat_minor": 2
}
